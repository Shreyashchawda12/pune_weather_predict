{
 "cells": [
  {
   "cell_type": "code",
   "execution_count": 1,
   "id": "680e525f",
   "metadata": {},
   "outputs": [],
   "source": [
    "import pandas as pd"
   ]
  },
  {
   "cell_type": "code",
   "execution_count": 2,
   "id": "ecb4e610",
   "metadata": {},
   "outputs": [],
   "source": [
    "pwd = pd.read_csv(\"pune_daily.csv\",index_col=\"DATE\")"
   ]
  },
  {
   "cell_type": "code",
   "execution_count": 3,
   "id": "c9567057",
   "metadata": {},
   "outputs": [
    {
     "data": {
      "text/html": [
       "<div>\n",
       "<style scoped>\n",
       "    .dataframe tbody tr th:only-of-type {\n",
       "        vertical-align: middle;\n",
       "    }\n",
       "\n",
       "    .dataframe tbody tr th {\n",
       "        vertical-align: top;\n",
       "    }\n",
       "\n",
       "    .dataframe thead th {\n",
       "        text-align: right;\n",
       "    }\n",
       "</style>\n",
       "<table border=\"1\" class=\"dataframe\">\n",
       "  <thead>\n",
       "    <tr style=\"text-align: right;\">\n",
       "      <th></th>\n",
       "      <th>STATION</th>\n",
       "      <th>NAME</th>\n",
       "      <th>PRCP</th>\n",
       "      <th>TAVG</th>\n",
       "      <th>TMAX</th>\n",
       "      <th>TMIN</th>\n",
       "    </tr>\n",
       "    <tr>\n",
       "      <th>DATE</th>\n",
       "      <th></th>\n",
       "      <th></th>\n",
       "      <th></th>\n",
       "      <th></th>\n",
       "      <th></th>\n",
       "      <th></th>\n",
       "    </tr>\n",
       "  </thead>\n",
       "  <tbody>\n",
       "    <tr>\n",
       "      <th>2002-03-12</th>\n",
       "      <td>IN012190100</td>\n",
       "      <td>POONA, IN</td>\n",
       "      <td>NaN</td>\n",
       "      <td>82</td>\n",
       "      <td>98.0</td>\n",
       "      <td>63.0</td>\n",
       "    </tr>\n",
       "    <tr>\n",
       "      <th>2002-03-13</th>\n",
       "      <td>IN012190100</td>\n",
       "      <td>POONA, IN</td>\n",
       "      <td>NaN</td>\n",
       "      <td>81</td>\n",
       "      <td>95.0</td>\n",
       "      <td>67.0</td>\n",
       "    </tr>\n",
       "    <tr>\n",
       "      <th>2002-03-14</th>\n",
       "      <td>IN012190100</td>\n",
       "      <td>POONA, IN</td>\n",
       "      <td>NaN</td>\n",
       "      <td>78</td>\n",
       "      <td>90.0</td>\n",
       "      <td>NaN</td>\n",
       "    </tr>\n",
       "    <tr>\n",
       "      <th>2002-03-15</th>\n",
       "      <td>IN012190100</td>\n",
       "      <td>POONA, IN</td>\n",
       "      <td>NaN</td>\n",
       "      <td>77</td>\n",
       "      <td>92.0</td>\n",
       "      <td>60.0</td>\n",
       "    </tr>\n",
       "    <tr>\n",
       "      <th>2002-03-16</th>\n",
       "      <td>IN012190100</td>\n",
       "      <td>POONA, IN</td>\n",
       "      <td>NaN</td>\n",
       "      <td>80</td>\n",
       "      <td>95.0</td>\n",
       "      <td>62.0</td>\n",
       "    </tr>\n",
       "  </tbody>\n",
       "</table>\n",
       "</div>"
      ],
      "text/plain": [
       "                STATION       NAME  PRCP  TAVG  TMAX  TMIN\n",
       "DATE                                                      \n",
       "2002-03-12  IN012190100  POONA, IN   NaN    82  98.0  63.0\n",
       "2002-03-13  IN012190100  POONA, IN   NaN    81  95.0  67.0\n",
       "2002-03-14  IN012190100  POONA, IN   NaN    78  90.0   NaN\n",
       "2002-03-15  IN012190100  POONA, IN   NaN    77  92.0  60.0\n",
       "2002-03-16  IN012190100  POONA, IN   NaN    80  95.0  62.0"
      ]
     },
     "execution_count": 3,
     "metadata": {},
     "output_type": "execute_result"
    }
   ],
   "source": [
    "pwd.head()"
   ]
  },
  {
   "cell_type": "code",
   "execution_count": 4,
   "id": "b819bb84",
   "metadata": {},
   "outputs": [],
   "source": [
    "null_pct = pwd.apply(pd.isnull).sum()/pwd.shape[0]"
   ]
  },
  {
   "cell_type": "code",
   "execution_count": 5,
   "id": "5fc63dbf",
   "metadata": {},
   "outputs": [
    {
     "data": {
      "text/plain": [
       "STATION    0.000000\n",
       "NAME       0.000000\n",
       "PRCP       0.587630\n",
       "TAVG       0.000000\n",
       "TMAX       0.328579\n",
       "TMIN       0.159901\n",
       "dtype: float64"
      ]
     },
     "execution_count": 5,
     "metadata": {},
     "output_type": "execute_result"
    }
   ],
   "source": [
    "null_pct"
   ]
  },
  {
   "cell_type": "code",
   "execution_count": 6,
   "id": "ed1e2602",
   "metadata": {},
   "outputs": [],
   "source": [
    "pwd.columns = pwd.columns.str.lower()"
   ]
  },
  {
   "cell_type": "code",
   "execution_count": 7,
   "id": "6f5612b8",
   "metadata": {},
   "outputs": [
    {
     "data": {
      "text/html": [
       "<div>\n",
       "<style scoped>\n",
       "    .dataframe tbody tr th:only-of-type {\n",
       "        vertical-align: middle;\n",
       "    }\n",
       "\n",
       "    .dataframe tbody tr th {\n",
       "        vertical-align: top;\n",
       "    }\n",
       "\n",
       "    .dataframe thead th {\n",
       "        text-align: right;\n",
       "    }\n",
       "</style>\n",
       "<table border=\"1\" class=\"dataframe\">\n",
       "  <thead>\n",
       "    <tr style=\"text-align: right;\">\n",
       "      <th></th>\n",
       "      <th>station</th>\n",
       "      <th>name</th>\n",
       "      <th>prcp</th>\n",
       "      <th>tavg</th>\n",
       "      <th>tmax</th>\n",
       "      <th>tmin</th>\n",
       "    </tr>\n",
       "    <tr>\n",
       "      <th>DATE</th>\n",
       "      <th></th>\n",
       "      <th></th>\n",
       "      <th></th>\n",
       "      <th></th>\n",
       "      <th></th>\n",
       "      <th></th>\n",
       "    </tr>\n",
       "  </thead>\n",
       "  <tbody>\n",
       "    <tr>\n",
       "      <th>2002-03-12</th>\n",
       "      <td>IN012190100</td>\n",
       "      <td>POONA, IN</td>\n",
       "      <td>NaN</td>\n",
       "      <td>82</td>\n",
       "      <td>98.0</td>\n",
       "      <td>63.0</td>\n",
       "    </tr>\n",
       "    <tr>\n",
       "      <th>2002-03-13</th>\n",
       "      <td>IN012190100</td>\n",
       "      <td>POONA, IN</td>\n",
       "      <td>NaN</td>\n",
       "      <td>81</td>\n",
       "      <td>95.0</td>\n",
       "      <td>67.0</td>\n",
       "    </tr>\n",
       "    <tr>\n",
       "      <th>2002-03-14</th>\n",
       "      <td>IN012190100</td>\n",
       "      <td>POONA, IN</td>\n",
       "      <td>NaN</td>\n",
       "      <td>78</td>\n",
       "      <td>90.0</td>\n",
       "      <td>NaN</td>\n",
       "    </tr>\n",
       "    <tr>\n",
       "      <th>2002-03-15</th>\n",
       "      <td>IN012190100</td>\n",
       "      <td>POONA, IN</td>\n",
       "      <td>NaN</td>\n",
       "      <td>77</td>\n",
       "      <td>92.0</td>\n",
       "      <td>60.0</td>\n",
       "    </tr>\n",
       "    <tr>\n",
       "      <th>2002-03-16</th>\n",
       "      <td>IN012190100</td>\n",
       "      <td>POONA, IN</td>\n",
       "      <td>NaN</td>\n",
       "      <td>80</td>\n",
       "      <td>95.0</td>\n",
       "      <td>62.0</td>\n",
       "    </tr>\n",
       "  </tbody>\n",
       "</table>\n",
       "</div>"
      ],
      "text/plain": [
       "                station       name  prcp  tavg  tmax  tmin\n",
       "DATE                                                      \n",
       "2002-03-12  IN012190100  POONA, IN   NaN    82  98.0  63.0\n",
       "2002-03-13  IN012190100  POONA, IN   NaN    81  95.0  67.0\n",
       "2002-03-14  IN012190100  POONA, IN   NaN    78  90.0   NaN\n",
       "2002-03-15  IN012190100  POONA, IN   NaN    77  92.0  60.0\n",
       "2002-03-16  IN012190100  POONA, IN   NaN    80  95.0  62.0"
      ]
     },
     "execution_count": 7,
     "metadata": {},
     "output_type": "execute_result"
    }
   ],
   "source": [
    "pwd.head()"
   ]
  },
  {
   "cell_type": "code",
   "execution_count": 8,
   "id": "2d7a8e89",
   "metadata": {},
   "outputs": [
    {
     "data": {
      "text/plain": [
       "(7292, 6)"
      ]
     },
     "execution_count": 8,
     "metadata": {},
     "output_type": "execute_result"
    }
   ],
   "source": [
    "pwd.shape"
   ]
  },
  {
   "cell_type": "code",
   "execution_count": 9,
   "id": "5fa23229",
   "metadata": {},
   "outputs": [],
   "source": [
    "pwd = pwd.ffill()"
   ]
  },
  {
   "cell_type": "code",
   "execution_count": 10,
   "id": "798f9d78",
   "metadata": {},
   "outputs": [
    {
     "data": {
      "text/plain": [
       "station     0\n",
       "name        0\n",
       "prcp       16\n",
       "tavg        0\n",
       "tmax        0\n",
       "tmin        0\n",
       "dtype: int64"
      ]
     },
     "execution_count": 10,
     "metadata": {},
     "output_type": "execute_result"
    }
   ],
   "source": [
    "pwd.apply(pd.isnull).sum()"
   ]
  },
  {
   "cell_type": "code",
   "execution_count": 11,
   "id": "bc4507d9",
   "metadata": {},
   "outputs": [],
   "source": [
    "pwd = pwd.dropna()"
   ]
  },
  {
   "cell_type": "code",
   "execution_count": 12,
   "id": "2e5ce848",
   "metadata": {},
   "outputs": [
    {
     "data": {
      "text/plain": [
       "station    0\n",
       "name       0\n",
       "prcp       0\n",
       "tavg       0\n",
       "tmax       0\n",
       "tmin       0\n",
       "dtype: int64"
      ]
     },
     "execution_count": 12,
     "metadata": {},
     "output_type": "execute_result"
    }
   ],
   "source": [
    "pwd.apply(pd.isnull).sum()"
   ]
  },
  {
   "cell_type": "code",
   "execution_count": 13,
   "id": "1832e527",
   "metadata": {},
   "outputs": [
    {
     "data": {
      "text/plain": [
       "(7276, 6)"
      ]
     },
     "execution_count": 13,
     "metadata": {},
     "output_type": "execute_result"
    }
   ],
   "source": [
    "pwd.shape"
   ]
  },
  {
   "cell_type": "code",
   "execution_count": 14,
   "id": "4f52e176",
   "metadata": {},
   "outputs": [
    {
     "data": {
      "text/plain": [
       "station     object\n",
       "name        object\n",
       "prcp       float64\n",
       "tavg         int64\n",
       "tmax       float64\n",
       "tmin       float64\n",
       "dtype: object"
      ]
     },
     "execution_count": 14,
     "metadata": {},
     "output_type": "execute_result"
    }
   ],
   "source": [
    "pwd.dtypes"
   ]
  },
  {
   "cell_type": "code",
   "execution_count": 15,
   "id": "7e3885a6",
   "metadata": {},
   "outputs": [
    {
     "data": {
      "text/plain": [
       "Index(['2002-03-28', '2002-03-29', '2002-03-30', '2002-03-31', '2002-04-01',\n",
       "       '2002-04-02', '2002-04-03', '2002-04-04', '2002-04-05', '2002-04-06',\n",
       "       ...\n",
       "       '2022-03-03', '2022-03-04', '2022-03-05', '2022-03-06', '2022-03-07',\n",
       "       '2022-03-08', '2022-03-09', '2022-03-10', '2022-03-11', '2022-03-12'],\n",
       "      dtype='object', name='DATE', length=7276)"
      ]
     },
     "execution_count": 15,
     "metadata": {},
     "output_type": "execute_result"
    }
   ],
   "source": [
    "pwd.index"
   ]
  },
  {
   "cell_type": "code",
   "execution_count": 16,
   "id": "9e3b6a9a",
   "metadata": {},
   "outputs": [],
   "source": [
    "pwd.index = pd.to_datetime(pwd.index)"
   ]
  },
  {
   "cell_type": "code",
   "execution_count": 17,
   "id": "95dec88e",
   "metadata": {},
   "outputs": [
    {
     "data": {
      "text/plain": [
       "DatetimeIndex(['2002-03-28', '2002-03-29', '2002-03-30', '2002-03-31',\n",
       "               '2002-04-01', '2002-04-02', '2002-04-03', '2002-04-04',\n",
       "               '2002-04-05', '2002-04-06',\n",
       "               ...\n",
       "               '2022-03-03', '2022-03-04', '2022-03-05', '2022-03-06',\n",
       "               '2022-03-07', '2022-03-08', '2022-03-09', '2022-03-10',\n",
       "               '2022-03-11', '2022-03-12'],\n",
       "              dtype='datetime64[ns]', name='DATE', length=7276, freq=None)"
      ]
     },
     "execution_count": 17,
     "metadata": {},
     "output_type": "execute_result"
    }
   ],
   "source": [
    "pwd.index"
   ]
  },
  {
   "cell_type": "code",
   "execution_count": 18,
   "id": "4374204c",
   "metadata": {},
   "outputs": [
    {
     "data": {
      "text/plain": [
       "2002    278\n",
       "2003    365\n",
       "2004    365\n",
       "2005    365\n",
       "2006    365\n",
       "2007    362\n",
       "2008    366\n",
       "2009    364\n",
       "2010    365\n",
       "2011    360\n",
       "2012    366\n",
       "2013    365\n",
       "2014    365\n",
       "2015    365\n",
       "2016    366\n",
       "2017    365\n",
       "2018    365\n",
       "2019    365\n",
       "2020    366\n",
       "2021    362\n",
       "2022     71\n",
       "Name: DATE, dtype: int64"
      ]
     },
     "execution_count": 18,
     "metadata": {},
     "output_type": "execute_result"
    }
   ],
   "source": [
    "pwd.index.year.value_counts().sort_index()"
   ]
  },
  {
   "cell_type": "code",
   "execution_count": 19,
   "id": "856131f5",
   "metadata": {},
   "outputs": [
    {
     "data": {
      "text/html": [
       "<div>\n",
       "<style scoped>\n",
       "    .dataframe tbody tr th:only-of-type {\n",
       "        vertical-align: middle;\n",
       "    }\n",
       "\n",
       "    .dataframe tbody tr th {\n",
       "        vertical-align: top;\n",
       "    }\n",
       "\n",
       "    .dataframe thead th {\n",
       "        text-align: right;\n",
       "    }\n",
       "</style>\n",
       "<table border=\"1\" class=\"dataframe\">\n",
       "  <thead>\n",
       "    <tr style=\"text-align: right;\">\n",
       "      <th></th>\n",
       "      <th>station</th>\n",
       "      <th>name</th>\n",
       "      <th>prcp</th>\n",
       "      <th>tavg</th>\n",
       "      <th>tmax</th>\n",
       "      <th>tmin</th>\n",
       "    </tr>\n",
       "    <tr>\n",
       "      <th>DATE</th>\n",
       "      <th></th>\n",
       "      <th></th>\n",
       "      <th></th>\n",
       "      <th></th>\n",
       "      <th></th>\n",
       "      <th></th>\n",
       "    </tr>\n",
       "  </thead>\n",
       "  <tbody>\n",
       "    <tr>\n",
       "      <th>2002-03-28</th>\n",
       "      <td>IN012190100</td>\n",
       "      <td>POONA, IN</td>\n",
       "      <td>0.0</td>\n",
       "      <td>80</td>\n",
       "      <td>98.0</td>\n",
       "      <td>58.0</td>\n",
       "    </tr>\n",
       "    <tr>\n",
       "      <th>2002-03-29</th>\n",
       "      <td>IN012190100</td>\n",
       "      <td>POONA, IN</td>\n",
       "      <td>0.0</td>\n",
       "      <td>81</td>\n",
       "      <td>99.0</td>\n",
       "      <td>60.0</td>\n",
       "    </tr>\n",
       "    <tr>\n",
       "      <th>2002-03-30</th>\n",
       "      <td>IN012190100</td>\n",
       "      <td>POONA, IN</td>\n",
       "      <td>0.0</td>\n",
       "      <td>82</td>\n",
       "      <td>101.0</td>\n",
       "      <td>61.0</td>\n",
       "    </tr>\n",
       "    <tr>\n",
       "      <th>2002-03-31</th>\n",
       "      <td>IN012190100</td>\n",
       "      <td>POONA, IN</td>\n",
       "      <td>0.0</td>\n",
       "      <td>83</td>\n",
       "      <td>102.0</td>\n",
       "      <td>63.0</td>\n",
       "    </tr>\n",
       "    <tr>\n",
       "      <th>2002-04-01</th>\n",
       "      <td>IN012190100</td>\n",
       "      <td>POONA, IN</td>\n",
       "      <td>0.0</td>\n",
       "      <td>86</td>\n",
       "      <td>100.0</td>\n",
       "      <td>62.0</td>\n",
       "    </tr>\n",
       "  </tbody>\n",
       "</table>\n",
       "</div>"
      ],
      "text/plain": [
       "                station       name  prcp  tavg   tmax  tmin\n",
       "DATE                                                       \n",
       "2002-03-28  IN012190100  POONA, IN   0.0    80   98.0  58.0\n",
       "2002-03-29  IN012190100  POONA, IN   0.0    81   99.0  60.0\n",
       "2002-03-30  IN012190100  POONA, IN   0.0    82  101.0  61.0\n",
       "2002-03-31  IN012190100  POONA, IN   0.0    83  102.0  63.0\n",
       "2002-04-01  IN012190100  POONA, IN   0.0    86  100.0  62.0"
      ]
     },
     "execution_count": 19,
     "metadata": {},
     "output_type": "execute_result"
    }
   ],
   "source": [
    "pwd.head()"
   ]
  },
  {
   "cell_type": "code",
   "execution_count": 20,
   "id": "42b05116",
   "metadata": {},
   "outputs": [
    {
     "data": {
      "text/plain": [
       "<AxesSubplot:xlabel='DATE'>"
      ]
     },
     "execution_count": 20,
     "metadata": {},
     "output_type": "execute_result"
    },
    {
     "data": {
      "image/png": "[encoded data removed]",
      "text/plain": [
       "<Figure size 432x288 with 1 Axes>"
      ]
     },
     "metadata": {
      "needs_background": "light"
     },
     "output_type": "display_data"
    }
   ],
   "source": [
    "pwd[\"prcp\"].plot()"
   ]
  },
  {
   "cell_type": "code",
   "execution_count": 21,
   "id": "9c1a1afc",
   "metadata": {},
   "outputs": [],
   "source": [
    "pwd[\"target\"] = pwd[\"tmax\"].shift(-1)"
   ]
  },
  {
   "cell_type": "code",
   "execution_count": 22,
   "id": "98eb5263",
   "metadata": {},
   "outputs": [
    {
     "data": {
      "text/html": [
       "<div>\n",
       "<style scoped>\n",
       "    .dataframe tbody tr th:only-of-type {\n",
       "        vertical-align: middle;\n",
       "    }\n",
       "\n",
       "    .dataframe tbody tr th {\n",
       "        vertical-align: top;\n",
       "    }\n",
       "\n",
       "    .dataframe thead th {\n",
       "        text-align: right;\n",
       "    }\n",
       "</style>\n",
       "<table border=\"1\" class=\"dataframe\">\n",
       "  <thead>\n",
       "    <tr style=\"text-align: right;\">\n",
       "      <th></th>\n",
       "      <th>station</th>\n",
       "      <th>name</th>\n",
       "      <th>prcp</th>\n",
       "      <th>tavg</th>\n",
       "      <th>tmax</th>\n",
       "      <th>tmin</th>\n",
       "      <th>target</th>\n",
       "    </tr>\n",
       "    <tr>\n",
       "      <th>DATE</th>\n",
       "      <th></th>\n",
       "      <th></th>\n",
       "      <th></th>\n",
       "      <th></th>\n",
       "      <th></th>\n",
       "      <th></th>\n",
       "      <th></th>\n",
       "    </tr>\n",
       "  </thead>\n",
       "  <tbody>\n",
       "    <tr>\n",
       "      <th>2002-03-28</th>\n",
       "      <td>IN012190100</td>\n",
       "      <td>POONA, IN</td>\n",
       "      <td>0.0</td>\n",
       "      <td>80</td>\n",
       "      <td>98.0</td>\n",
       "      <td>58.0</td>\n",
       "      <td>99.0</td>\n",
       "    </tr>\n",
       "    <tr>\n",
       "      <th>2002-03-29</th>\n",
       "      <td>IN012190100</td>\n",
       "      <td>POONA, IN</td>\n",
       "      <td>0.0</td>\n",
       "      <td>81</td>\n",
       "      <td>99.0</td>\n",
       "      <td>60.0</td>\n",
       "      <td>101.0</td>\n",
       "    </tr>\n",
       "    <tr>\n",
       "      <th>2002-03-30</th>\n",
       "      <td>IN012190100</td>\n",
       "      <td>POONA, IN</td>\n",
       "      <td>0.0</td>\n",
       "      <td>82</td>\n",
       "      <td>101.0</td>\n",
       "      <td>61.0</td>\n",
       "      <td>102.0</td>\n",
       "    </tr>\n",
       "    <tr>\n",
       "      <th>2002-03-31</th>\n",
       "      <td>IN012190100</td>\n",
       "      <td>POONA, IN</td>\n",
       "      <td>0.0</td>\n",
       "      <td>83</td>\n",
       "      <td>102.0</td>\n",
       "      <td>63.0</td>\n",
       "      <td>100.0</td>\n",
       "    </tr>\n",
       "    <tr>\n",
       "      <th>2002-04-01</th>\n",
       "      <td>IN012190100</td>\n",
       "      <td>POONA, IN</td>\n",
       "      <td>0.0</td>\n",
       "      <td>86</td>\n",
       "      <td>100.0</td>\n",
       "      <td>62.0</td>\n",
       "      <td>96.0</td>\n",
       "    </tr>\n",
       "  </tbody>\n",
       "</table>\n",
       "</div>"
      ],
      "text/plain": [
       "                station       name  prcp  tavg   tmax  tmin  target\n",
       "DATE                                                               \n",
       "2002-03-28  IN012190100  POONA, IN   0.0    80   98.0  58.0    99.0\n",
       "2002-03-29  IN012190100  POONA, IN   0.0    81   99.0  60.0   101.0\n",
       "2002-03-30  IN012190100  POONA, IN   0.0    82  101.0  61.0   102.0\n",
       "2002-03-31  IN012190100  POONA, IN   0.0    83  102.0  63.0   100.0\n",
       "2002-04-01  IN012190100  POONA, IN   0.0    86  100.0  62.0    96.0"
      ]
     },
     "execution_count": 22,
     "metadata": {},
     "output_type": "execute_result"
    }
   ],
   "source": [
    "pwd.head()"
   ]
  },
  {
   "cell_type": "code",
   "execution_count": 23,
   "id": "327608a1",
   "metadata": {},
   "outputs": [],
   "source": [
    "pwd = pwd.ffill()"
   ]
  },
  {
   "cell_type": "code",
   "execution_count": 24,
   "id": "e260453f",
   "metadata": {},
   "outputs": [
    {
     "data": {
      "text/html": [
       "<div>\n",
       "<style scoped>\n",
       "    .dataframe tbody tr th:only-of-type {\n",
       "        vertical-align: middle;\n",
       "    }\n",
       "\n",
       "    .dataframe tbody tr th {\n",
       "        vertical-align: top;\n",
       "    }\n",
       "\n",
       "    .dataframe thead th {\n",
       "        text-align: right;\n",
       "    }\n",
       "</style>\n",
       "<table border=\"1\" class=\"dataframe\">\n",
       "  <thead>\n",
       "    <tr style=\"text-align: right;\">\n",
       "      <th></th>\n",
       "      <th>station</th>\n",
       "      <th>name</th>\n",
       "      <th>prcp</th>\n",
       "      <th>tavg</th>\n",
       "      <th>tmax</th>\n",
       "      <th>tmin</th>\n",
       "      <th>target</th>\n",
       "    </tr>\n",
       "    <tr>\n",
       "      <th>DATE</th>\n",
       "      <th></th>\n",
       "      <th></th>\n",
       "      <th></th>\n",
       "      <th></th>\n",
       "      <th></th>\n",
       "      <th></th>\n",
       "      <th></th>\n",
       "    </tr>\n",
       "  </thead>\n",
       "  <tbody>\n",
       "    <tr>\n",
       "      <th>2002-03-28</th>\n",
       "      <td>IN012190100</td>\n",
       "      <td>POONA, IN</td>\n",
       "      <td>0.0</td>\n",
       "      <td>80</td>\n",
       "      <td>98.0</td>\n",
       "      <td>58.0</td>\n",
       "      <td>99.0</td>\n",
       "    </tr>\n",
       "    <tr>\n",
       "      <th>2002-03-29</th>\n",
       "      <td>IN012190100</td>\n",
       "      <td>POONA, IN</td>\n",
       "      <td>0.0</td>\n",
       "      <td>81</td>\n",
       "      <td>99.0</td>\n",
       "      <td>60.0</td>\n",
       "      <td>101.0</td>\n",
       "    </tr>\n",
       "    <tr>\n",
       "      <th>2002-03-30</th>\n",
       "      <td>IN012190100</td>\n",
       "      <td>POONA, IN</td>\n",
       "      <td>0.0</td>\n",
       "      <td>82</td>\n",
       "      <td>101.0</td>\n",
       "      <td>61.0</td>\n",
       "      <td>102.0</td>\n",
       "    </tr>\n",
       "    <tr>\n",
       "      <th>2002-03-31</th>\n",
       "      <td>IN012190100</td>\n",
       "      <td>POONA, IN</td>\n",
       "      <td>0.0</td>\n",
       "      <td>83</td>\n",
       "      <td>102.0</td>\n",
       "      <td>63.0</td>\n",
       "      <td>100.0</td>\n",
       "    </tr>\n",
       "    <tr>\n",
       "      <th>2002-04-01</th>\n",
       "      <td>IN012190100</td>\n",
       "      <td>POONA, IN</td>\n",
       "      <td>0.0</td>\n",
       "      <td>86</td>\n",
       "      <td>100.0</td>\n",
       "      <td>62.0</td>\n",
       "      <td>96.0</td>\n",
       "    </tr>\n",
       "    <tr>\n",
       "      <th>...</th>\n",
       "      <td>...</td>\n",
       "      <td>...</td>\n",
       "      <td>...</td>\n",
       "      <td>...</td>\n",
       "      <td>...</td>\n",
       "      <td>...</td>\n",
       "      <td>...</td>\n",
       "    </tr>\n",
       "    <tr>\n",
       "      <th>2022-03-08</th>\n",
       "      <td>IN012190100</td>\n",
       "      <td>POONA, IN</td>\n",
       "      <td>0.0</td>\n",
       "      <td>79</td>\n",
       "      <td>85.0</td>\n",
       "      <td>65.0</td>\n",
       "      <td>85.0</td>\n",
       "    </tr>\n",
       "    <tr>\n",
       "      <th>2022-03-09</th>\n",
       "      <td>IN012190100</td>\n",
       "      <td>POONA, IN</td>\n",
       "      <td>0.0</td>\n",
       "      <td>78</td>\n",
       "      <td>85.0</td>\n",
       "      <td>65.0</td>\n",
       "      <td>85.0</td>\n",
       "    </tr>\n",
       "    <tr>\n",
       "      <th>2022-03-10</th>\n",
       "      <td>IN012190100</td>\n",
       "      <td>POONA, IN</td>\n",
       "      <td>0.0</td>\n",
       "      <td>77</td>\n",
       "      <td>85.0</td>\n",
       "      <td>67.0</td>\n",
       "      <td>85.0</td>\n",
       "    </tr>\n",
       "    <tr>\n",
       "      <th>2022-03-11</th>\n",
       "      <td>IN012190100</td>\n",
       "      <td>POONA, IN</td>\n",
       "      <td>0.0</td>\n",
       "      <td>77</td>\n",
       "      <td>85.0</td>\n",
       "      <td>63.0</td>\n",
       "      <td>85.0</td>\n",
       "    </tr>\n",
       "    <tr>\n",
       "      <th>2022-03-12</th>\n",
       "      <td>IN012190100</td>\n",
       "      <td>POONA, IN</td>\n",
       "      <td>0.0</td>\n",
       "      <td>77</td>\n",
       "      <td>85.0</td>\n",
       "      <td>62.0</td>\n",
       "      <td>85.0</td>\n",
       "    </tr>\n",
       "  </tbody>\n",
       "</table>\n",
       "<p>7276 rows × 7 columns</p>\n",
       "</div>"
      ],
      "text/plain": [
       "                station       name  prcp  tavg   tmax  tmin  target\n",
       "DATE                                                               \n",
       "2002-03-28  IN012190100  POONA, IN   0.0    80   98.0  58.0    99.0\n",
       "2002-03-29  IN012190100  POONA, IN   0.0    81   99.0  60.0   101.0\n",
       "2002-03-30  IN012190100  POONA, IN   0.0    82  101.0  61.0   102.0\n",
       "2002-03-31  IN012190100  POONA, IN   0.0    83  102.0  63.0   100.0\n",
       "2002-04-01  IN012190100  POONA, IN   0.0    86  100.0  62.0    96.0\n",
       "...                 ...        ...   ...   ...    ...   ...     ...\n",
       "2022-03-08  IN012190100  POONA, IN   0.0    79   85.0  65.0    85.0\n",
       "2022-03-09  IN012190100  POONA, IN   0.0    78   85.0  65.0    85.0\n",
       "2022-03-10  IN012190100  POONA, IN   0.0    77   85.0  67.0    85.0\n",
       "2022-03-11  IN012190100  POONA, IN   0.0    77   85.0  63.0    85.0\n",
       "2022-03-12  IN012190100  POONA, IN   0.0    77   85.0  62.0    85.0\n",
       "\n",
       "[7276 rows x 7 columns]"
      ]
     },
     "execution_count": 24,
     "metadata": {},
     "output_type": "execute_result"
    }
   ],
   "source": [
    "pwd"
   ]
  },
  {
   "cell_type": "code",
   "execution_count": 25,
   "id": "26604f0f",
   "metadata": {},
   "outputs": [
    {
     "data": {
      "text/html": [
       "<div>\n",
       "<style scoped>\n",
       "    .dataframe tbody tr th:only-of-type {\n",
       "        vertical-align: middle;\n",
       "    }\n",
       "\n",
       "    .dataframe tbody tr th {\n",
       "        vertical-align: top;\n",
       "    }\n",
       "\n",
       "    .dataframe thead th {\n",
       "        text-align: right;\n",
       "    }\n",
       "</style>\n",
       "<table border=\"1\" class=\"dataframe\">\n",
       "  <thead>\n",
       "    <tr style=\"text-align: right;\">\n",
       "      <th></th>\n",
       "      <th>prcp</th>\n",
       "      <th>tavg</th>\n",
       "      <th>tmax</th>\n",
       "      <th>tmin</th>\n",
       "      <th>target</th>\n",
       "    </tr>\n",
       "  </thead>\n",
       "  <tbody>\n",
       "    <tr>\n",
       "      <th>prcp</th>\n",
       "      <td>1.000000</td>\n",
       "      <td>-0.026525</td>\n",
       "      <td>-0.187102</td>\n",
       "      <td>0.168801</td>\n",
       "      <td>-0.170857</td>\n",
       "    </tr>\n",
       "    <tr>\n",
       "      <th>tavg</th>\n",
       "      <td>-0.026525</td>\n",
       "      <td>1.000000</td>\n",
       "      <td>0.617243</td>\n",
       "      <td>0.696590</td>\n",
       "      <td>0.587064</td>\n",
       "    </tr>\n",
       "    <tr>\n",
       "      <th>tmax</th>\n",
       "      <td>-0.187102</td>\n",
       "      <td>0.617243</td>\n",
       "      <td>1.000000</td>\n",
       "      <td>0.097573</td>\n",
       "      <td>0.939185</td>\n",
       "    </tr>\n",
       "    <tr>\n",
       "      <th>tmin</th>\n",
       "      <td>0.168801</td>\n",
       "      <td>0.696590</td>\n",
       "      <td>0.097573</td>\n",
       "      <td>1.000000</td>\n",
       "      <td>0.078819</td>\n",
       "    </tr>\n",
       "    <tr>\n",
       "      <th>target</th>\n",
       "      <td>-0.170857</td>\n",
       "      <td>0.587064</td>\n",
       "      <td>0.939185</td>\n",
       "      <td>0.078819</td>\n",
       "      <td>1.000000</td>\n",
       "    </tr>\n",
       "  </tbody>\n",
       "</table>\n",
       "</div>"
      ],
      "text/plain": [
       "            prcp      tavg      tmax      tmin    target\n",
       "prcp    1.000000 -0.026525 -0.187102  0.168801 -0.170857\n",
       "tavg   -0.026525  1.000000  0.617243  0.696590  0.587064\n",
       "tmax   -0.187102  0.617243  1.000000  0.097573  0.939185\n",
       "tmin    0.168801  0.696590  0.097573  1.000000  0.078819\n",
       "target -0.170857  0.587064  0.939185  0.078819  1.000000"
      ]
     },
     "execution_count": 25,
     "metadata": {},
     "output_type": "execute_result"
    }
   ],
   "source": [
    "pwd.corr()"
   ]
  },
  {
   "cell_type": "code",
   "execution_count": 26,
   "id": "ecc49043",
   "metadata": {},
   "outputs": [],
   "source": [
    "from sklearn.linear_model import Ridge\n",
    "rr = Ridge(alpha=.1)"
   ]
  },
  {
   "cell_type": "code",
   "execution_count": 27,
   "id": "772866f2",
   "metadata": {},
   "outputs": [],
   "source": [
    "predictors = pwd.columns[~pwd.columns.isin([\"target\", \"name\", \"station\"])]"
   ]
  },
  {
   "cell_type": "code",
   "execution_count": 28,
   "id": "02ddae99",
   "metadata": {},
   "outputs": [
    {
     "data": {
      "text/plain": [
       "Index(['prcp', 'tavg', 'tmax', 'tmin'], dtype='object')"
      ]
     },
     "execution_count": 28,
     "metadata": {},
     "output_type": "execute_result"
    }
   ],
   "source": [
    "predictors"
   ]
  },
  {
   "cell_type": "code",
   "execution_count": 29,
   "id": "b2187d71",
   "metadata": {},
   "outputs": [],
   "source": [
    "def backtest(pwd,model,predictors,start = 3650,step = 90):\n",
    "    all_predictions = []         \n",
    "    for i in range(start,pwd.shape[0],step):\n",
    "        train = pwd.iloc[:i,:]\n",
    "        test = pwd.iloc[i:(i+step),:]\n",
    "        \n",
    "        model.fit(train[predictors],train[\"target\"])\n",
    "        preds = model.predict(test[predictors])\n",
    "        preds = pd.Series(preds,index=test.index)\n",
    "        \n",
    "        combined = pd.concat([test[\"target\"],preds],axis = 1)\n",
    "        combined.columns = [\"actual\",\"prediction\"]\n",
    "        combined[\"diff\"] = (combined[\"prediction\"]-combined[\"actual\"]).abs()\n",
    "        \n",
    "        all_predictions.append(combined)\n",
    "    return pd.concat(all_predictions)"
   ]
  },
  {
   "cell_type": "code",
   "execution_count": 30,
   "id": "69863290",
   "metadata": {},
   "outputs": [],
   "source": [
    "predictions = backtest(pwd,rr,predictors)"
   ]
  },
  {
   "cell_type": "code",
   "execution_count": 31,
   "id": "0bdfed0d",
   "metadata": {},
   "outputs": [
    {
     "data": {
      "text/html": [
       "<div>\n",
       "<style scoped>\n",
       "    .dataframe tbody tr th:only-of-type {\n",
       "        vertical-align: middle;\n",
       "    }\n",
       "\n",
       "    .dataframe tbody tr th {\n",
       "        vertical-align: top;\n",
       "    }\n",
       "\n",
       "    .dataframe thead th {\n",
       "        text-align: right;\n",
       "    }\n",
       "</style>\n",
       "<table border=\"1\" class=\"dataframe\">\n",
       "  <thead>\n",
       "    <tr style=\"text-align: right;\">\n",
       "      <th></th>\n",
       "      <th>actual</th>\n",
       "      <th>prediction</th>\n",
       "      <th>diff</th>\n",
       "    </tr>\n",
       "    <tr>\n",
       "      <th>DATE</th>\n",
       "      <th></th>\n",
       "      <th></th>\n",
       "      <th></th>\n",
       "    </tr>\n",
       "  </thead>\n",
       "  <tbody>\n",
       "    <tr>\n",
       "      <th>2012-04-05</th>\n",
       "      <td>99.0</td>\n",
       "      <td>100.412715</td>\n",
       "      <td>1.412715</td>\n",
       "    </tr>\n",
       "    <tr>\n",
       "      <th>2012-04-06</th>\n",
       "      <td>102.0</td>\n",
       "      <td>99.251949</td>\n",
       "      <td>2.748051</td>\n",
       "    </tr>\n",
       "    <tr>\n",
       "      <th>2012-04-07</th>\n",
       "      <td>104.0</td>\n",
       "      <td>101.827419</td>\n",
       "      <td>2.172581</td>\n",
       "    </tr>\n",
       "    <tr>\n",
       "      <th>2012-04-08</th>\n",
       "      <td>102.0</td>\n",
       "      <td>103.846472</td>\n",
       "      <td>1.846472</td>\n",
       "    </tr>\n",
       "    <tr>\n",
       "      <th>2012-04-09</th>\n",
       "      <td>102.0</td>\n",
       "      <td>101.676851</td>\n",
       "      <td>0.323149</td>\n",
       "    </tr>\n",
       "    <tr>\n",
       "      <th>...</th>\n",
       "      <td>...</td>\n",
       "      <td>...</td>\n",
       "      <td>...</td>\n",
       "    </tr>\n",
       "    <tr>\n",
       "      <th>2022-03-08</th>\n",
       "      <td>85.0</td>\n",
       "      <td>85.586473</td>\n",
       "      <td>0.586473</td>\n",
       "    </tr>\n",
       "    <tr>\n",
       "      <th>2022-03-09</th>\n",
       "      <td>85.0</td>\n",
       "      <td>85.508774</td>\n",
       "      <td>0.508774</td>\n",
       "    </tr>\n",
       "    <tr>\n",
       "      <th>2022-03-10</th>\n",
       "      <td>85.0</td>\n",
       "      <td>85.338723</td>\n",
       "      <td>0.338723</td>\n",
       "    </tr>\n",
       "    <tr>\n",
       "      <th>2022-03-11</th>\n",
       "      <td>85.0</td>\n",
       "      <td>85.523427</td>\n",
       "      <td>0.523427</td>\n",
       "    </tr>\n",
       "    <tr>\n",
       "      <th>2022-03-12</th>\n",
       "      <td>85.0</td>\n",
       "      <td>85.569603</td>\n",
       "      <td>0.569603</td>\n",
       "    </tr>\n",
       "  </tbody>\n",
       "</table>\n",
       "<p>3626 rows × 3 columns</p>\n",
       "</div>"
      ],
      "text/plain": [
       "            actual  prediction      diff\n",
       "DATE                                    \n",
       "2012-04-05    99.0  100.412715  1.412715\n",
       "2012-04-06   102.0   99.251949  2.748051\n",
       "2012-04-07   104.0  101.827419  2.172581\n",
       "2012-04-08   102.0  103.846472  1.846472\n",
       "2012-04-09   102.0  101.676851  0.323149\n",
       "...            ...         ...       ...\n",
       "2022-03-08    85.0   85.586473  0.586473\n",
       "2022-03-09    85.0   85.508774  0.508774\n",
       "2022-03-10    85.0   85.338723  0.338723\n",
       "2022-03-11    85.0   85.523427  0.523427\n",
       "2022-03-12    85.0   85.569603  0.569603\n",
       "\n",
       "[3626 rows x 3 columns]"
      ]
     },
     "execution_count": 31,
     "metadata": {},
     "output_type": "execute_result"
    }
   ],
   "source": [
    "predictions"
   ]
  },
  {
   "cell_type": "code",
   "execution_count": 32,
   "id": "ba96c356",
   "metadata": {},
   "outputs": [
    {
     "data": {
      "text/plain": [
       "0.977055892640889"
      ]
     },
     "execution_count": 32,
     "metadata": {},
     "output_type": "execute_result"
    }
   ],
   "source": [
    "from sklearn.metrics import mean_absolute_error\n",
    "\n",
    "mean_absolute_error(predictions[\"actual\"],predictions[\"prediction\"])"
   ]
  },
  {
   "cell_type": "code",
   "execution_count": 33,
   "id": "c2c64d0a",
   "metadata": {},
   "outputs": [
    {
     "data": {
      "text/plain": [
       "0.9770558926408867"
      ]
     },
     "execution_count": 33,
     "metadata": {},
     "output_type": "execute_result"
    }
   ],
   "source": [
    "predictions[\"diff\"].mean()"
   ]
  },
  {
   "cell_type": "code",
   "execution_count": 34,
   "id": "fbc847ad",
   "metadata": {},
   "outputs": [
    {
     "data": {
      "text/html": [
       "<div>\n",
       "<style scoped>\n",
       "    .dataframe tbody tr th:only-of-type {\n",
       "        vertical-align: middle;\n",
       "    }\n",
       "\n",
       "    .dataframe tbody tr th {\n",
       "        vertical-align: top;\n",
       "    }\n",
       "\n",
       "    .dataframe thead th {\n",
       "        text-align: right;\n",
       "    }\n",
       "</style>\n",
       "<table border=\"1\" class=\"dataframe\">\n",
       "  <thead>\n",
       "    <tr style=\"text-align: right;\">\n",
       "      <th></th>\n",
       "      <th>actual</th>\n",
       "      <th>prediction</th>\n",
       "      <th>diff</th>\n",
       "    </tr>\n",
       "    <tr>\n",
       "      <th>DATE</th>\n",
       "      <th></th>\n",
       "      <th></th>\n",
       "      <th></th>\n",
       "    </tr>\n",
       "  </thead>\n",
       "  <tbody>\n",
       "    <tr>\n",
       "      <th>2015-02-28</th>\n",
       "      <td>66.0</td>\n",
       "      <td>84.122114</td>\n",
       "      <td>18.122114</td>\n",
       "    </tr>\n",
       "    <tr>\n",
       "      <th>2014-10-24</th>\n",
       "      <td>73.0</td>\n",
       "      <td>88.456847</td>\n",
       "      <td>15.456847</td>\n",
       "    </tr>\n",
       "    <tr>\n",
       "      <th>2018-06-26</th>\n",
       "      <td>85.0</td>\n",
       "      <td>99.177993</td>\n",
       "      <td>14.177993</td>\n",
       "    </tr>\n",
       "    <tr>\n",
       "      <th>2018-04-01</th>\n",
       "      <td>101.0</td>\n",
       "      <td>87.412887</td>\n",
       "      <td>13.587113</td>\n",
       "    </tr>\n",
       "    <tr>\n",
       "      <th>2015-03-01</th>\n",
       "      <td>81.0</td>\n",
       "      <td>68.385480</td>\n",
       "      <td>12.614520</td>\n",
       "    </tr>\n",
       "    <tr>\n",
       "      <th>...</th>\n",
       "      <td>...</td>\n",
       "      <td>...</td>\n",
       "      <td>...</td>\n",
       "    </tr>\n",
       "    <tr>\n",
       "      <th>2020-06-12</th>\n",
       "      <td>88.0</td>\n",
       "      <td>88.000679</td>\n",
       "      <td>0.000679</td>\n",
       "    </tr>\n",
       "    <tr>\n",
       "      <th>2019-09-21</th>\n",
       "      <td>88.0</td>\n",
       "      <td>88.000605</td>\n",
       "      <td>0.000605</td>\n",
       "    </tr>\n",
       "    <tr>\n",
       "      <th>2015-01-13</th>\n",
       "      <td>85.0</td>\n",
       "      <td>84.999572</td>\n",
       "      <td>0.000428</td>\n",
       "    </tr>\n",
       "    <tr>\n",
       "      <th>2020-03-06</th>\n",
       "      <td>88.0</td>\n",
       "      <td>88.000364</td>\n",
       "      <td>0.000364</td>\n",
       "    </tr>\n",
       "    <tr>\n",
       "      <th>2020-09-08</th>\n",
       "      <td>88.0</td>\n",
       "      <td>88.000354</td>\n",
       "      <td>0.000354</td>\n",
       "    </tr>\n",
       "  </tbody>\n",
       "</table>\n",
       "<p>3626 rows × 3 columns</p>\n",
       "</div>"
      ],
      "text/plain": [
       "            actual  prediction       diff\n",
       "DATE                                     \n",
       "2015-02-28    66.0   84.122114  18.122114\n",
       "2014-10-24    73.0   88.456847  15.456847\n",
       "2018-06-26    85.0   99.177993  14.177993\n",
       "2018-04-01   101.0   87.412887  13.587113\n",
       "2015-03-01    81.0   68.385480  12.614520\n",
       "...            ...         ...        ...\n",
       "2020-06-12    88.0   88.000679   0.000679\n",
       "2019-09-21    88.0   88.000605   0.000605\n",
       "2015-01-13    85.0   84.999572   0.000428\n",
       "2020-03-06    88.0   88.000364   0.000364\n",
       "2020-09-08    88.0   88.000354   0.000354\n",
       "\n",
       "[3626 rows x 3 columns]"
      ]
     },
     "execution_count": 34,
     "metadata": {},
     "output_type": "execute_result"
    }
   ],
   "source": [
    "predictions.sort_values(\"diff\",ascending=False)"
   ]
  },
  {
   "cell_type": "code",
   "execution_count": 35,
   "id": "fa4bfd42",
   "metadata": {},
   "outputs": [
    {
     "data": {
      "text/plain": [
       "0.0     1828\n",
       "1.0     1086\n",
       "2.0      362\n",
       "3.0      167\n",
       "4.0       82\n",
       "5.0       45\n",
       "6.0       23\n",
       "7.0        9\n",
       "8.0        9\n",
       "9.0        6\n",
       "10.0       2\n",
       "11.0       2\n",
       "13.0       1\n",
       "14.0       2\n",
       "15.0       1\n",
       "18.0       1\n",
       "Name: diff, dtype: int64"
      ]
     },
     "execution_count": 35,
     "metadata": {},
     "output_type": "execute_result"
    }
   ],
   "source": [
    "predictions[\"diff\"].round().value_counts().sort_index()"
   ]
  },
  {
   "cell_type": "code",
   "execution_count": 41,
   "id": "73044290",
   "metadata": {},
   "outputs": [
    {
     "data": {
      "text/plain": [
       "<AxesSubplot:>"
      ]
     },
     "execution_count": 41,
     "metadata": {},
     "output_type": "execute_result"
    },
    {
     "data": {
      "image/png": "[encoded data removed]",
      "text/plain": [
       "<Figure size 432x288 with 1 Axes>"
      ]
     },
     "metadata": {
      "needs_background": "light"
     },
     "output_type": "display_data"
    }
   ],
   "source": [
    "predictions[\"diff\"].round().value_counts().sort_index().plot()"
   ]
  },
  {
   "cell_type": "code",
   "execution_count": null,
   "id": "778ecc27",
   "metadata": {},
   "outputs": [],
   "source": []
  }
 ],
 "metadata": {
  "kernelspec": {
   "display_name": "Python 3 (ipykernel)",
   "language": "python",
   "name": "python3"
  },
  "language_info": {
   "codemirror_mode": {
    "name": "ipython",
    "version": 3
   },
   "file_extension": ".py",
   "mimetype": "text/x-python",
   "name": "python",
   "nbconvert_exporter": "python",
   "pygments_lexer": "ipython3",
   "version": "3.9.7"
  }
 },
 "nbformat": 4,
 "nbformat_minor": 5
}
